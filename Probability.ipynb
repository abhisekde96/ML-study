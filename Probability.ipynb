{
  "nbformat": 4,
  "nbformat_minor": 0,
  "metadata": {
    "colab": {
      "provenance": []
    },
    "kernelspec": {
      "name": "python3",
      "display_name": "Python 3"
    },
    "language_info": {
      "name": "python"
    }
  },
  "cells": [
    {
      "cell_type": "code",
      "execution_count": 1,
      "metadata": {
        "colab": {
          "base_uri": "https://localhost:8080/"
        },
        "id": "53rkmcYEapoL",
        "outputId": "40d92dc9-52d4-4cd5-dac7-200f7bd7de37"
      },
      "outputs": [
        {
          "output_type": "stream",
          "name": "stdout",
          "text": [
            "Probability of Heads: 0.5\n",
            "Probability of Tails: 0.5\n"
          ]
        }
      ],
      "source": [
        "# Probability of getting Heads or Tails in a single coin toss\n",
        "favorable_outcomes = 1   # Only one way to get 'Heads' or 'Tails'\n",
        "total_outcomes = 2       # 'Heads' or 'Tails'\n",
        "\n",
        "P_heads = favorable_outcomes / total_outcomes\n",
        "P_tails = favorable_outcomes / total_outcomes\n",
        "\n",
        "print(\"Probability of Heads:\", P_heads)\n",
        "print(\"Probability of Tails:\", P_tails)\n"
      ]
    },
    {
      "cell_type": "code",
      "source": [
        "# Probability of getting a specific number (e.g., 1) when rolling a fair six-sided dice\n",
        "favorable_outcomes = 1   # Only one way to get '1'\n",
        "total_outcomes = 6       # Possible outcomes: 1,2,3,4,5,6\n",
        "\n",
        "P_1 = favorable_outcomes / total_outcomes\n",
        "print(\"Probability of rolling a 1:\", P_1)\n"
      ],
      "metadata": {
        "colab": {
          "base_uri": "https://localhost:8080/"
        },
        "id": "Ou0A6Pnca4QT",
        "outputId": "02afc1ad-4ed6-4a2d-eceb-eaab4ace22c9"
      },
      "execution_count": 2,
      "outputs": [
        {
          "output_type": "stream",
          "name": "stdout",
          "text": [
            "Probability of rolling a 1: 0.16666666666666666\n"
          ]
        }
      ]
    },
    {
      "cell_type": "code",
      "source": [
        "# Probabilities for each outcome\n",
        "P_heads = 1/2\n",
        "P_tails = 1/2\n",
        "\n",
        "# Probability of getting 'Heads' or 'Tails' (they can't happen together)\n",
        "P_heads_or_tails = P_heads + P_tails\n",
        "print(\"P(Heads or Tails):\", P_heads_or_tails)   # Should be 1\n"
      ],
      "metadata": {
        "colab": {
          "base_uri": "https://localhost:8080/"
        },
        "id": "ukihPeNWa7Da",
        "outputId": "b39d923a-c397-4182-a787-2b2004964d09"
      },
      "execution_count": 3,
      "outputs": [
        {
          "output_type": "stream",
          "name": "stdout",
          "text": [
            "P(Heads or Tails): 1.0\n"
          ]
        }
      ]
    },
    {
      "cell_type": "code",
      "source": [
        "P_1 = 1/6\n",
        "P_5 = 1/6\n",
        "\n",
        "# Mutually exclusive: can't roll both 1 and 5 at once\n",
        "P_1_or_5 = P_1 + P_5\n",
        "print(\"P(1 or 5):\", P_1_or_5)   # Should be 2/6 or 1/3\n"
      ],
      "metadata": {
        "colab": {
          "base_uri": "https://localhost:8080/"
        },
        "id": "8Q9-dvYNa9sc",
        "outputId": "fbcf23cf-75c9-41d2-d95c-130d80416fad"
      },
      "execution_count": 4,
      "outputs": [
        {
          "output_type": "stream",
          "name": "stdout",
          "text": [
            "P(1 or 5): 0.3333333333333333\n"
          ]
        }
      ]
    },
    {
      "cell_type": "code",
      "source": [
        "# Total cards in deck\n",
        "total_cards = 52\n",
        "\n",
        "# Number of Kings in deck\n",
        "num_kings = 4\n",
        "P_king = num_kings / total_cards\n",
        "\n",
        "# Number of Hearts in deck\n",
        "num_hearts = 13\n",
        "P_heart = num_hearts / total_cards\n",
        "\n",
        "# Only one card is both King and Heart (King of Hearts)\n",
        "num_king_hearts = 1\n",
        "P_king_and_heart = num_king_hearts / total_cards\n",
        "\n",
        "# Using the addition rule for non-mutually exclusive events\n",
        "P_king_or_heart = P_king + P_heart - P_king_and_heart\n",
        "\n",
        "print(\"P(King):\", P_king)\n",
        "print(\"P(Heart):\", P_heart)\n",
        "print(\"P(King and Heart):\", P_king_and_heart)\n",
        "print(\"P(King or Heart):\", P_king_or_heart)\n"
      ],
      "metadata": {
        "colab": {
          "base_uri": "https://localhost:8080/"
        },
        "id": "HeOFrLHPa_vc",
        "outputId": "5bf8e72f-bc08-43e8-d3ac-70a71d1393ad"
      },
      "execution_count": 5,
      "outputs": [
        {
          "output_type": "stream",
          "name": "stdout",
          "text": [
            "P(King): 0.07692307692307693\n",
            "P(Heart): 0.25\n",
            "P(King and Heart): 0.019230769230769232\n",
            "P(King or Heart): 0.3076923076923077\n"
          ]
        }
      ]
    },
    {
      "cell_type": "code",
      "source": [
        "# Probability of getting heads in a single toss\n",
        "p_heads = 1/2\n",
        "\n",
        "# Probability of getting tails in the next toss (independent)\n",
        "p_tails = 1/2\n",
        "\n",
        "# Multiplication rule for independent events:\n",
        "# P(Heads and Tails) = P(Heads) * P(Tails)\n",
        "p_heads_then_tails = p_heads * p_tails\n",
        "\n",
        "print(f\"Probability of getting heads then tails (independent events): {p_heads_then_tails}\")\n",
        "# Output: 0.25\n"
      ],
      "metadata": {
        "colab": {
          "base_uri": "https://localhost:8080/"
        },
        "id": "32wVkP-vbCEf",
        "outputId": "9bb309ed-6882-4ace-e33a-5517c8bdc342"
      },
      "execution_count": 6,
      "outputs": [
        {
          "output_type": "stream",
          "name": "stdout",
          "text": [
            "Probability of getting heads then tails (independent events): 0.25\n"
          ]
        }
      ]
    },
    {
      "cell_type": "code",
      "source": [
        "# Probability of getting a one in the first roll\n",
        "p_one = 1/6\n",
        "\n",
        "# Probability of getting a two in the second roll (independent)\n",
        "p_two = 1/6\n",
        "\n",
        "# Both events are independent\n",
        "p_one_then_two = p_one * p_two\n",
        "\n",
        "print(f\"Probability of getting one then two (rolling dice twice): {p_one_then_two}\")\n",
        "# Output: 0.027777...\n"
      ],
      "metadata": {
        "colab": {
          "base_uri": "https://localhost:8080/"
        },
        "id": "bd4wshVZbYbq",
        "outputId": "0a04b80d-8042-4f30-cdde-c051593443b2"
      },
      "execution_count": 7,
      "outputs": [
        {
          "output_type": "stream",
          "name": "stdout",
          "text": [
            "Probability of getting one then two (rolling dice twice): 0.027777777777777776\n"
          ]
        }
      ]
    },
    {
      "cell_type": "code",
      "source": [
        "# Initial number of cards in a standard deck\n",
        "total_cards = 52\n",
        "\n",
        "# Probability of drawing a King first\n",
        "p_king = 4 / total_cards  # There are 4 Kings in the deck\n",
        "\n",
        "# Now, after removing one King, 51 cards remain\n",
        "remaining_cards = total_cards - 1\n",
        "\n",
        "# Probability of drawing a Queen now (without replacement)\n",
        "p_queen_given_king = 4 / remaining_cards  # 4 Queens left\n",
        "\n",
        "# Since drawing a King changes the total number of cards, these are dependent events\n",
        "p_king_then_queen = p_king * p_queen_given_king\n",
        "\n",
        "print(f\"Probability of drawing a King, then a Queen (dependent events): {p_king_then_queen}\")\n",
        "# Output: Approximately 0.006032\n"
      ],
      "metadata": {
        "colab": {
          "base_uri": "https://localhost:8080/"
        },
        "id": "9dySZpbibaek",
        "outputId": "5d2d0782-09bf-409e-ca71-814f3b5c167a"
      },
      "execution_count": 8,
      "outputs": [
        {
          "output_type": "stream",
          "name": "stdout",
          "text": [
            "Probability of drawing a King, then a Queen (dependent events): 0.006033182503770739\n"
          ]
        }
      ]
    },
    {
      "cell_type": "code",
      "source": [
        "# Suppose you toss a fair coin and roll a fair dice.\n",
        "# What is the probability that you get heads and then a six?\n",
        "\n",
        "p_heads = 1/2\n",
        "p_six = 1/6\n",
        "\n",
        "# These events are independent, so we multiply their probabilities\n",
        "p_heads_then_six = p_heads * p_six\n",
        "\n",
        "print(f\"Probability of getting heads (coin) and six (dice): {p_heads_then_six}\")\n",
        "# Output: 0.083333...\n"
      ],
      "metadata": {
        "colab": {
          "base_uri": "https://localhost:8080/"
        },
        "id": "Ec2853n6bd69",
        "outputId": "b94d20de-a76f-49a3-e95d-8d909cea9e7e"
      },
      "execution_count": 9,
      "outputs": [
        {
          "output_type": "stream",
          "name": "stdout",
          "text": [
            "Probability of getting heads (coin) and six (dice): 0.08333333333333333\n"
          ]
        }
      ]
    },
    {
      "cell_type": "code",
      "source": [
        "# Drawing two aces in a row from a deck without replacement\n",
        "\n",
        "# Probability of drawing the first Ace\n",
        "p_ace_first = 4/52\n",
        "\n",
        "# After one Ace is drawn, three Aces remain, and 51 cards left\n",
        "p_ace_second_given_first = 3/51\n",
        "\n",
        "# Apply the dependent multiplication rule:\n",
        "p_two_aces = p_ace_first * p_ace_second_given_first\n",
        "\n",
        "print(f\"Probability of drawing two aces in a row (no replacement): {p_two_aces}\")\n",
        "# Output: Approximately 0.004525...\n"
      ],
      "metadata": {
        "colab": {
          "base_uri": "https://localhost:8080/"
        },
        "id": "G1VFW7-kbf8u",
        "outputId": "fddf5528-a185-4701-b571-74a083070b35"
      },
      "execution_count": 10,
      "outputs": [
        {
          "output_type": "stream",
          "name": "stdout",
          "text": [
            "Probability of drawing two aces in a row (no replacement): 0.004524886877828055\n"
          ]
        }
      ]
    },
    {
      "cell_type": "code",
      "source": [],
      "metadata": {
        "id": "VotyRgaPbhi9"
      },
      "execution_count": null,
      "outputs": []
    }
  ]
}