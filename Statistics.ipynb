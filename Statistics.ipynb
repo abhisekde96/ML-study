{
  "nbformat": 4,
  "nbformat_minor": 0,
  "metadata": {
    "colab": {
      "provenance": []
    },
    "kernelspec": {
      "name": "python3",
      "display_name": "Python 3"
    },
    "language_info": {
      "name": "python"
    }
  },
  "cells": [
    {
      "cell_type": "markdown",
      "source": [
        "# Introduction to Types of Statistics\n",
        "\n",
        "This notebook covers the two main branches of statistics:  \n",
        "- **Descriptive Statistics**\n",
        "- **Inferential Statistics**\n",
        "\n",
        "You'll see their definitions, examples, and Python demonstrations for each major concept.\n"
      ],
      "metadata": {
        "id": "vev3-KTxz2FX"
      }
    },
    {
      "cell_type": "markdown",
      "source": [
        "## Descriptive Statistics\n",
        "\n",
        "Descriptive statistics organize and summarize data, giving insights into your sample with just a few numbers.\n",
        "- **Measures of Central Tendency:** Mean, Median, Mode\n",
        "- **Measures of Dispersion:** Variance, Standard Deviation\n"
      ],
      "metadata": {
        "id": "waKagGbQz6tW"
      }
    },
    {
      "cell_type": "code",
      "execution_count": 3,
      "metadata": {
        "colab": {
          "base_uri": "https://localhost:8080/"
        },
        "id": "vJjT95L7zc8F",
        "outputId": "ca63f86f-17ac-492d-e44f-cc6ef341f923"
      },
      "outputs": [
        {
          "output_type": "stream",
          "name": "stdout",
          "text": [
            "Sample data (heights): [180, 170, 162, 150, 160, 168]\n"
          ]
        }
      ],
      "source": [
        "# Sample data: Heights (in cm) of 6 students\n",
        "heights = [180, 170, 162, 150, 160, 168]\n",
        "print(\"Sample data (heights):\", heights)\n"
      ]
    },
    {
      "cell_type": "code",
      "source": [
        "# Mean\n",
        "import statistics\n",
        "\n",
        "mean_height = statistics.mean(heights)\n",
        "\n",
        "\n",
        "print(f\"Mean (average) height: {mean_height:.2f} cm\")\n",
        "\n"
      ],
      "metadata": {
        "colab": {
          "base_uri": "https://localhost:8080/"
        },
        "id": "37I1yO_MzgEn",
        "outputId": "1967434a-4d21-4471-a902-afa314983d7b"
      },
      "execution_count": 7,
      "outputs": [
        {
          "output_type": "stream",
          "name": "stdout",
          "text": [
            "Mean (average) height: 165.00 cm\n"
          ]
        }
      ]
    },
    {
      "cell_type": "markdown",
      "source": [
        "**Descriptive statistics** summarize the sample data collected, giving you a quick numerical overview.  \n",
        "They do NOT allow you to make inferences beyond the data at hand.\n"
      ],
      "metadata": {
        "id": "Wc754dcB0E9z"
      }
    },
    {
      "cell_type": "markdown",
      "source": [
        "## Inferential Statistics\n",
        "\n",
        "Inferential statistics let us make predictions or draw conclusions about a broader population based on our sample.  \n",
        "Common tools: hypothesis testing (e.g., Z-test, t-test) and confidence intervals.\n"
      ],
      "metadata": {
        "id": "eNRHJX7s0HW-"
      }
    },
    {
      "cell_type": "markdown",
      "source": [
        "- **Descriptive statistics**: Organize and summarize data you have.\n",
        "- **Inferential statistics**: Use a sample to make statements or predictions about a larger population.\n",
        "\n",
        "Understanding both types is key to applying statistics in the real world.\n"
      ],
      "metadata": {
        "id": "d1BrYlcn0NAm"
      }
    },
    {
      "cell_type": "markdown",
      "source": [
        "# Key Concepts\n",
        "\n",
        "- **Population**: The entire group you want to study (e.g., all 1000 students in a college).\n",
        "- **Sample**: A subset of the population (e.g., the 6 students measured).\n",
        "- **Descriptive Statistics**: Mean, median, mode, variance, standard deviation.\n",
        "- **Inferential Statistics**: Drawing conclusions about the population using sample data.\n",
        "\n",
        "**Next steps:**  \n",
        "- Learn about statistical hypothesis testing (Z-test, t-test).\n",
        "- Explore deeper concepts: sampling, bias, probability distributions.\n"
      ],
      "metadata": {
        "id": "HnOv60b30RIY"
      }
    },
    {
      "cell_type": "code",
      "source": [],
      "metadata": {
        "id": "DzHsFu-B0KIc"
      },
      "execution_count": 7,
      "outputs": []
    },
    {
      "cell_type": "markdown",
      "source": [
        "# Population vs Sample in Statistics\n",
        "\n",
        "In this notebook, you'll learn the difference between **population** and **sample** in statistics, why sampling is needed, notations used, and see Python demonstrations of these ideas.\n"
      ],
      "metadata": {
        "id": "wI-dSWak3Ecw"
      }
    },
    {
      "cell_type": "markdown",
      "source": [
        "## What is a Population?\n",
        "\n",
        "A **population** is the entire group that you want to draw conclusions about.\n",
        "- Example: All people living on an island (e.g., 100,000 people).\n",
        "- Studying the entire population can be impractical or impossible.\n"
      ],
      "metadata": {
        "id": "Dhw248fK3MtN"
      }
    },
    {
      "cell_type": "code",
      "source": [
        "# Let's simulate a population: weights of 100,000 people\n",
        "\n",
        "import numpy as np\n",
        "\n",
        "# Generating synthetic 'population' data -- e.g., weights normally distributed around 70kg\n",
        "N = 100_000  # population size, denoted by capital N\n",
        "np.random.seed(42)  # For reproducibility\n",
        "population_weights = np.random.normal(loc=70, scale=10, size=N)  # mean=70kg, sd=10kg\n",
        "\n",
        "print(f\"Population size (N): {N}\")\n",
        "print(f\"First 10 weights in the population: {population_weights[:10]}\")\n"
      ],
      "metadata": {
        "colab": {
          "base_uri": "https://localhost:8080/"
        },
        "id": "ptphIWZh3GmX",
        "outputId": "665f2bac-abb3-4d25-d163-bf18a6ff5504"
      },
      "execution_count": 8,
      "outputs": [
        {
          "output_type": "stream",
          "name": "stdout",
          "text": [
            "Population size (N): 100000\n",
            "First 10 weights in the population: [74.96714153 68.61735699 76.47688538 85.23029856 67.65846625 67.65863043\n",
            " 85.79212816 77.67434729 65.30525614 75.42560044]\n"
          ]
        }
      ]
    },
    {
      "cell_type": "markdown",
      "source": [
        "> **Challenge**: It's usually not possible to collect measurements from *every* member of the population (everyone on the island).  \n",
        "We often use a **sample** instead.\n"
      ],
      "metadata": {
        "id": "6Bg8TyUU3RSv"
      }
    },
    {
      "cell_type": "markdown",
      "source": [
        "## What is a Sample?\n",
        "\n",
        "A **sample** is a subset selected from the population.\n",
        "- Example: Measuring the weights of 10,000 randomly chosen people from the total 100,000.\n",
        "- Notation: sample size is small *n*.\n",
        "\n",
        "Sampling enables analysis and inference about the population without exhaustive data collection.\n"
      ],
      "metadata": {
        "id": "8x-4bAsk3VI9"
      }
    },
    {
      "cell_type": "code",
      "source": [
        "# Take a random sample from the population\n",
        "\n",
        "n = 10_000  # sample size, denoted by small n\n",
        "sample_weights = np.random.choice(population_weights, size=n, replace=False)\n",
        "\n",
        "print(f\"Sample size (n): {n}\")\n",
        "print(f\"First 10 weights in sample: {sample_weights[:10]}\")\n"
      ],
      "metadata": {
        "colab": {
          "base_uri": "https://localhost:8080/"
        },
        "id": "8i48r30z3PD6",
        "outputId": "29a27854-a48d-408c-df8e-1dff17b3461c"
      },
      "execution_count": 9,
      "outputs": [
        {
          "output_type": "stream",
          "name": "stdout",
          "text": [
            "Sample size (n): 10000\n",
            "First 10 weights in sample: [66.3856873  64.62052464 69.85007279 56.52793743 76.60100602 60.22444755\n",
            " 66.26440319 91.69807028 69.49199211 69.05301686]\n"
          ]
        }
      ]
    },
    {
      "cell_type": "markdown",
      "source": [
        "## Why Use a Sample?\n",
        "\n",
        "- Saves time, cost, and effort.\n",
        "- Some members of the population are hard/impossible to reach.\n",
        "- **Statistical inference**: We use the sample to estimate characteristics of the whole population.\n",
        "- Example: Election exit polls, medical studies, surveys.\n"
      ],
      "metadata": {
        "id": "w-GGfDTA3bPn"
      }
    },
    {
      "cell_type": "code",
      "source": [
        "# Example: Compare the mean of population and sample\n",
        "\n",
        "population_mean = np.mean(population_weights)\n",
        "sample_mean = np.mean(sample_weights)\n",
        "\n",
        "print(f\"Population mean weight (μ): {population_mean:.2f} kg\")\n",
        "print(f\"Sample mean weight (x̄): {sample_mean:.2f} kg\")\n",
        "\n",
        "# Comment: Usually, the sample mean is close to the population mean\n"
      ],
      "metadata": {
        "colab": {
          "base_uri": "https://localhost:8080/"
        },
        "id": "-KkDsCH33XiQ",
        "outputId": "b7b9eea1-5591-4b6a-a391-2dc8c866e801"
      },
      "execution_count": 10,
      "outputs": [
        {
          "output_type": "stream",
          "name": "stdout",
          "text": [
            "Population mean weight (μ): 70.01 kg\n",
            "Sample mean weight (x̄): 70.00 kg\n"
          ]
        }
      ]
    },
    {
      "cell_type": "markdown",
      "source": [
        "**Real-world Example:**  \n",
        "- In elections, exit pollsters don't check every single voter.  \n",
        "- Instead, they survey a *sample* and infer the result for the *entire* voting population.\n"
      ],
      "metadata": {
        "id": "OFlRj1Tc3fSt"
      }
    },
    {
      "cell_type": "markdown",
      "source": [
        "## Notations in Statistics\n",
        "\n",
        "- **Population size:** N (capital letter)\n",
        "- **Sample size:** n (small letter)\n",
        "- **Population mean:** μ (mu) or sometimes $\\mu$\n",
        "- **Sample mean:** x̄ (x-bar)\n",
        "\n",
        "These notations are standard for measures like mean and standard deviation.\n"
      ],
      "metadata": {
        "id": "j3d2RQo93h69"
      }
    },
    {
      "cell_type": "markdown",
      "source": [
        "# Key Takeaways\n",
        "\n",
        "- **Population:** The whole group we want to study ($N$).\n",
        "- **Sample:** A smaller, manageable subset ($n$).\n",
        "- Sampling makes statistical studies feasible and efficient.\n",
        "- Proper sampling allows accurate inferences about the population.\n",
        "\n",
        "*Next: We'll use these concepts when we study measures of central tendency and dispersion!*\n"
      ],
      "metadata": {
        "id": "MbGpc8hA3lo1"
      }
    },
    {
      "cell_type": "markdown",
      "source": [
        "# Measures of Central Tendency\n",
        "\n",
        "This section covers the three core measures of central tendency in statistics:\n",
        "- **Mean**\n",
        "- **Median**\n",
        "- **Mode**\n",
        "\n",
        "You'll learn their definitions, formulas (for population and sample), sensitivity to outliers, and how to calculate them in Python.\n",
        "\n",
        "\n",
        "## Mean (Arithmetic Average)\n",
        "\n",
        "- **Population Mean** (μ): the sum of all values in the population divided by the population size (N).\n",
        "    $$\n",
        "    \\mu = \\frac{1}{N}\\sum_{i=1}^N x_i\n",
        "    $$\n",
        "- **Sample Mean** ($\\bar{x}$): the sum of all sample values divided by the sample size (n).\n",
        "    $$\n",
        "    \\bar{x} = \\frac{1}{n}\\sum_{i=1}^n x_i\n",
        "    $$\n",
        "\n",
        "The mean is a standard way to describe the \"center\" of the data.\n"
      ],
      "metadata": {
        "id": "ZmfE1ZZCB9LB"
      }
    },
    {
      "cell_type": "code",
      "source": [
        "# Example data: ages (can be interpreted as population or sample)\n",
        "ages = [1, 3, 4, 5]\n",
        "\n",
        "# Mean calculation (both for small sample and as population)\n",
        "mean_population = sum(ages) / len(ages)   # Population mean (μ)\n",
        "mean_sample = sum(ages) / len(ages)       # Sample mean (x̄), here it's the same since all data is included\n",
        "\n",
        "print(f\"Mean (μ or x̄) for ages {ages}: {mean_sample}\")\n"
      ],
      "metadata": {
        "colab": {
          "base_uri": "https://localhost:8080/"
        },
        "id": "mW6Fdfz43dVM",
        "outputId": "7b9df617-0d32-4374-9e57-edc707a1e88b"
      },
      "execution_count": 11,
      "outputs": [
        {
          "output_type": "stream",
          "name": "stdout",
          "text": [
            "Mean (μ or x̄) for ages [1, 3, 4, 5]: 3.25\n"
          ]
        }
      ]
    },
    {
      "cell_type": "markdown",
      "source": [
        "**Why is it called \"central tendency\"?**\n",
        "- The mean locates the arithmetic center of the data distribution.\n",
        "- In a balanced distribution, the mean best represents the \"typical\" value.\n",
        "\n",
        "## Effect of Outliers on Mean\n",
        "\n",
        "- The mean can be **highly sensitive** to extreme values (outliers).\n",
        "- Let's see how adding an outlier affects the mean.\n"
      ],
      "metadata": {
        "id": "O2B-oqZlCIgE"
      }
    },
    {
      "cell_type": "code",
      "source": [
        "# Adding an outlier to demonstrate its effect\n",
        "ages_with_outlier = [1, 3, 4, 5, 100]\n",
        "\n",
        "mean_with_outlier = sum(ages_with_outlier) / len(ages_with_outlier)\n",
        "\n",
        "print(f\"Original ages: {ages}\")\n",
        "print(f\"Ages with outlier: {ages_with_outlier}\")\n",
        "print(f\"Mean with outlier: {mean_with_outlier}\")\n"
      ],
      "metadata": {
        "colab": {
          "base_uri": "https://localhost:8080/"
        },
        "id": "7oV1bq4JCFKS",
        "outputId": "b24224cd-06e6-4e2a-acc7-fac6724398d8"
      },
      "execution_count": 12,
      "outputs": [
        {
          "output_type": "stream",
          "name": "stdout",
          "text": [
            "Original ages: [1, 3, 4, 5]\n",
            "Ages with outlier: [1, 3, 4, 5, 100]\n",
            "Mean with outlier: 22.6\n"
          ]
        }
      ]
    },
    {
      "cell_type": "markdown",
      "source": [
        "## Median\n",
        "\n",
        "- The **median** is the middle value in sorted data.\n",
        "    - Odd count: the value at the center.\n",
        "    - Even count: average of the two center values.\n",
        "- Median is **robust against outliers**.\n"
      ],
      "metadata": {
        "id": "ek1TLTsNCPu2"
      }
    },
    {
      "cell_type": "code",
      "source": [
        "# Using the example with outliers\n",
        "import statistics\n",
        "\n",
        "# Odd number of elements\n",
        "median_odd = statistics.median(ages_with_outlier)\n",
        "print(f\"Median for ages {ages_with_outlier}: {median_odd}\")\n",
        "\n",
        "# Adding another outlier to make the number even\n",
        "ages_even = [1, 3, 4, 5, 100, 200]\n",
        "median_even = statistics.median(ages_even)\n",
        "print(f\"Median for even set {ages_even}: {median_even}\")\n"
      ],
      "metadata": {
        "colab": {
          "base_uri": "https://localhost:8080/"
        },
        "id": "VAGfF1c8CNdh",
        "outputId": "1339295d-c99c-48dc-83f2-338ba2167a1c"
      },
      "execution_count": 13,
      "outputs": [
        {
          "output_type": "stream",
          "name": "stdout",
          "text": [
            "Median for ages [1, 3, 4, 5, 100]: 4\n",
            "Median for even set [1, 3, 4, 5, 100, 200]: 4.5\n"
          ]
        }
      ]
    },
    {
      "cell_type": "markdown",
      "source": [
        "## Mode\n",
        "\n",
        "- The **mode** is the value that occurs **most frequently** in the dataset.\n",
        "- There may be more than one mode, or none (if all values are unique).\n",
        "- Particularly useful for categorical (non-numeric) data.\n",
        "- Often unaffected by outliers.\n"
      ],
      "metadata": {
        "id": "8dXCacbVCUwC"
      }
    },
    {
      "cell_type": "code",
      "source": [
        "# Example dataset with repeated and outlier values\n",
        "data = [4, 3, 2, 1, 1, 4, 4, 5, 2, 100]\n",
        "\n",
        "# Count frequency of each entry\n",
        "mode_value = statistics.mode(data)\n",
        "print(f\"Data: {data}\")\n",
        "print(f\"Mode: {mode_value}\")\n",
        "\n",
        "# If you want to see all modes (for multimodal distributions):\n",
        "from collections import Counter\n",
        "\n",
        "counts = Counter(data)\n",
        "max_count = max(counts.values())\n",
        "all_modes = [k for k, v in counts.items() if v == max_count]\n",
        "print(f\"All mode(s): {all_modes} (each appears {max_count} times)\")\n"
      ],
      "metadata": {
        "colab": {
          "base_uri": "https://localhost:8080/"
        },
        "id": "wxHffr2NCSlV",
        "outputId": "53c558fd-10ce-4a44-b455-f769831d59ad"
      },
      "execution_count": 14,
      "outputs": [
        {
          "output_type": "stream",
          "name": "stdout",
          "text": [
            "Data: [4, 3, 2, 1, 1, 4, 4, 5, 2, 100]\n",
            "Mode: 4\n",
            "All mode(s): [4] (each appears 3 times)\n"
          ]
        }
      ]
    },
    {
      "cell_type": "markdown",
      "source": [
        "## Summary: Robustness to Outliers\n",
        "\n",
        "| Measure | Sensitive to Outliers?    |\n",
        "|---------|--------------------------|\n",
        "| Mean    | Yes (can be distorted)   |\n",
        "| Median  | No (remains robust)      |\n",
        "| Mode    | No (usually unchanged)   |\n",
        "\n",
        "- Mean: Arithmetic average, **sensitive** to outliers\n",
        "- Median: Middle value, **robust**\n",
        "- Mode: Most frequent, **robust** and useful for non-numeric data\n"
      ],
      "metadata": {
        "id": "n-gGcpilCbyo"
      }
    },
    {
      "cell_type": "markdown",
      "source": [
        "# Key Takeaways\n",
        "\n",
        "- **Mean** gives a sense of \"average\" but is affected by extreme values.\n",
        "- **Median** shows the true center and is reliable even when data are skewed or have outliers.\n",
        "- **Mode** identifies common or repeated values and is valuable for categorical data.\n",
        "\n",
        "Understanding these measures is fundamental for describing and interpreting data distributions.\n"
      ],
      "metadata": {
        "id": "TgdsEhk_CgHB"
      }
    },
    {
      "cell_type": "markdown",
      "source": [
        "# Measure of Dispersion\n",
        "\n",
        "This section introduces you to *variance* and *standard deviation*, the key measures that quantify **how spread out data values are** in a dataset.\n",
        "- We'll explore the difference between population and sample variance.\n",
        "- You'll see why distributions can have the same mean but very different spreads.\n",
        "\n",
        "## What is Dispersion?\n",
        "\n",
        "- Dispersion measures how much data points spread out from their center (mean).\n",
        "- Two important measures:\n",
        "  - **Variance** (σ² for population, S² for sample)\n",
        "  - **Standard Deviation** (σ for population, S for sample)\n",
        "- Let's see why this is important with some examples.\n"
      ],
      "metadata": {
        "id": "rXvtmEnZCuO7"
      }
    },
    {
      "cell_type": "code",
      "source": [
        "# Two datasets with the same mean but different spread\n",
        "data1 = [2, 2, 3, 3]\n",
        "data2 = [1, 1, 5, 5]\n",
        "\n",
        "mean1 = sum(data1) / len(data1)\n",
        "mean2 = sum(data2) / len(data2)\n",
        "\n",
        "print(f\"Mean of data1: {mean1}\")\n",
        "print(f\"Mean of data2: {mean2}\")\n",
        "\n",
        "# Both datasets have (almost) the same mean, but their values are spread differently\n"
      ],
      "metadata": {
        "colab": {
          "base_uri": "https://localhost:8080/"
        },
        "id": "yhIFOI3rCakD",
        "outputId": "b0121a0f-f6a5-4539-81be-2082748d12cf"
      },
      "execution_count": 15,
      "outputs": [
        {
          "output_type": "stream",
          "name": "stdout",
          "text": [
            "Mean of data1: 2.5\n",
            "Mean of data2: 3.0\n"
          ]
        }
      ]
    },
    {
      "cell_type": "markdown",
      "source": [
        "## Variance\n",
        "\n",
        "- **Variance** measures the average squared deviation from the mean.\n",
        "- For **population** variance (denoted σ²):\n",
        "  $$\n",
        "  \\sigma^2 = \\frac{1}{N} \\sum_{i=1}^N (x_i - \\mu)^2\n",
        "  $$\n",
        "  - $N$ = population size\n",
        "  - $x_i$ = each data point\n",
        "  - $\\mu$ = population mean\n",
        "- A **larger variance** means data is more spread out.\n"
      ],
      "metadata": {
        "id": "4oyzVYR2C18D"
      }
    },
    {
      "cell_type": "code",
      "source": [
        "# Example 1: Population variance for [2, 2, 4, 4]\n",
        "\n",
        "data_pop1 = [2, 2, 4, 4]\n",
        "\n",
        "# Step 1: Calculate mean\n",
        "mean_pop1 = sum(data_pop1) / len(data_pop1)\n",
        "print(f\"Mean (μ) of data_pop1: {mean_pop1}\")\n",
        "\n",
        "# Step 2: Calculate squared deviations and variance\n",
        "squared_devs1 = [(x - mean_pop1) ** 2 for x in data_pop1]\n",
        "variance_pop1 = sum(squared_devs1) / len(data_pop1)  # denominator is N\n",
        "\n",
        "print(f\"Squared deviations: {squared_devs1}\")\n",
        "print(f\"Population variance (σ²): {variance_pop1}\")\n"
      ],
      "metadata": {
        "colab": {
          "base_uri": "https://localhost:8080/"
        },
        "id": "W7jKRd6sCzO5",
        "outputId": "f6e466f0-8896-4564-eee4-aa3eb7e9588b"
      },
      "execution_count": 16,
      "outputs": [
        {
          "output_type": "stream",
          "name": "stdout",
          "text": [
            "Mean (μ) of data_pop1: 3.0\n",
            "Squared deviations: [1.0, 1.0, 1.0, 1.0]\n",
            "Population variance (σ²): 1.0\n"
          ]
        }
      ]
    },
    {
      "cell_type": "code",
      "source": [
        "# Example 2: Population variance for [1, 1, 5, 5]\n",
        "\n",
        "data_pop2 = [1, 1, 5, 5]\n",
        "\n",
        "# Step 1: Calculate mean\n",
        "mean_pop2 = sum(data_pop2) / len(data_pop2)\n",
        "print(f\"Mean (μ) of data_pop2: {mean_pop2}\")\n",
        "\n",
        "# Step 2: Calculate squared deviations and variance\n",
        "squared_devs2 = [(x - mean_pop2) ** 2 for x in data_pop2]\n",
        "variance_pop2 = sum(squared_devs2) / len(data_pop2)  # denominator is N\n",
        "\n",
        "print(f\"Squared deviations: {squared_devs2}\")\n",
        "print(f\"Population variance (σ²): {variance_pop2}\")\n",
        "\n",
        "# Notice: Both datasets have the same mean, but variance is higher here.\n"
      ],
      "metadata": {
        "colab": {
          "base_uri": "https://localhost:8080/"
        },
        "id": "FENioc9EC4rL",
        "outputId": "85faa8c9-8100-4018-8001-e7498c6ba2cd"
      },
      "execution_count": 17,
      "outputs": [
        {
          "output_type": "stream",
          "name": "stdout",
          "text": [
            "Mean (μ) of data_pop2: 3.0\n",
            "Squared deviations: [4.0, 4.0, 4.0, 4.0]\n",
            "Population variance (σ²): 4.0\n"
          ]
        }
      ]
    },
    {
      "cell_type": "markdown",
      "source": [
        "## Sample Variance\n",
        "\n",
        "- When working with a sample (not the whole population), the formula for variance is modified:\n",
        "  $$\n",
        "  S^2 = \\frac{1}{n-1} \\sum_{i=1}^n (x_i - \\bar{x})^2\n",
        "  $$\n",
        "  - $n$ = sample size\n",
        "  - $x_i$ = each sample value\n",
        "  - $\\bar{x}$ = sample mean\n",
        "- The denominator is $n-1$ (not $n$!). This corrects for bias in estimating the population variance from a sample.  \n",
        "- The reason for dividing by $n-1$ is known as **Bessel's correction** (to be discussed in detail in future lessons).\n"
      ],
      "metadata": {
        "id": "ntZfq__gC9hh"
      }
    },
    {
      "cell_type": "code",
      "source": [
        "# Let's treat [1, 1, 5, 5] as a sample, not a population\n",
        "\n",
        "sample = [1, 1, 5, 5]\n",
        "n = len(sample)\n",
        "sample_mean = sum(sample) / n\n",
        "\n",
        "# Sum of squared deviations\n",
        "sum_sq_dev = sum((x - sample_mean) ** 2 for x in sample)\n",
        "\n",
        "# Divide by n - 1 for sample variance\n",
        "sample_variance = sum_sq_dev / (n - 1)\n",
        "\n",
        "print(f\"Sample mean (x̄): {sample_mean}\")\n",
        "print(f\"Sum of squared deviations: {sum_sq_dev}\")\n",
        "print(f\"Sample Variance (S²): {sample_variance}\")\n"
      ],
      "metadata": {
        "colab": {
          "base_uri": "https://localhost:8080/"
        },
        "id": "JJpRauZsC7Ch",
        "outputId": "2292c472-853e-4fd1-88d4-da29121fd1f6"
      },
      "execution_count": 18,
      "outputs": [
        {
          "output_type": "stream",
          "name": "stdout",
          "text": [
            "Sample mean (x̄): 3.0\n",
            "Sum of squared deviations: 16.0\n",
            "Sample Variance (S²): 5.333333333333333\n"
          ]
        }
      ]
    },
    {
      "cell_type": "markdown",
      "source": [
        "## Standard Deviation\n",
        "\n",
        "- **Standard deviation** is the square root of variance.\n",
        "- It is in the same units as the original data (easier to interpret).\n",
        "- For population: $\\sigma = \\sqrt{\\sigma^2}$\n",
        "- For sample: $S = \\sqrt{S^2}$\n"
      ],
      "metadata": {
        "id": "cbelffsQDC5N"
      }
    },
    {
      "cell_type": "code",
      "source": [
        "import math\n",
        "\n",
        "# For population variance (use previous one)\n",
        "stddev_pop2 = math.sqrt(variance_pop2)\n",
        "print(f\"Population standard deviation (σ): {stddev_pop2}\")\n",
        "\n",
        "# For sample variance (use previous one)\n",
        "stddev_sample = math.sqrt(sample_variance)\n",
        "print(f\"Sample standard deviation (S): {stddev_sample}\")\n"
      ],
      "metadata": {
        "colab": {
          "base_uri": "https://localhost:8080/"
        },
        "id": "9KoiP4xcDAX_",
        "outputId": "0a486a9e-eefc-4ed4-c91e-8693934c4de8"
      },
      "execution_count": 19,
      "outputs": [
        {
          "output_type": "stream",
          "name": "stdout",
          "text": [
            "Population standard deviation (σ): 2.0\n",
            "Sample standard deviation (S): 2.309401076758503\n"
          ]
        }
      ]
    },
    {
      "cell_type": "markdown",
      "source": [
        "# Key Takeaways\n",
        "\n",
        "- **Variance** and **standard deviation** tell you about the *spread* of your data.\n",
        "- Two datasets can have the same mean but very different variances.\n",
        "- **Population variance** uses $N$ in the denominator, **sample variance** uses $n-1$ to correct for bias.\n",
        "- Standard deviation is the square root of variance and is easier to interpret (original units).\n"
      ],
      "metadata": {
        "id": "AVnAlkv0DIJL"
      }
    },
    {
      "cell_type": "markdown",
      "source": [
        "# Why Is Sample Variance Divided by \\( n-1 \\)?\n",
        "\n",
        "## Introduction to Sample Variance\n",
        "\n",
        "**Sample variance** is a key measure in statistics, representing the spread of a sample data set. Its formula is:\n",
        "\n",
        "$$\n",
        "s^2 = \\frac{\\sum_{i=1}^{n}(x_i-\\bar{x})^2}{n-1}\n",
        "$$\n",
        "\n",
        "where:\n",
        "- \\( n \\) is the sample size,\n",
        "- \\( x_i \\) are the observed sample values,\n",
        "- \\( \\bar{x} \\) is the sample mean.\n",
        "\n",
        "In contrast, for an entire population (when all possible data points are observed), the **population variance** (\\( \\sigma^2 \\)) formula is:\n",
        "\n",
        "$$\n",
        "\\sigma^2 = \\frac{\\sum_{i=1}^{N} (x_i-\\mu)^2}{N}\n",
        "$$\n",
        "\n",
        "- \\( N \\) is the population size,\n",
        "- \\( \\mu \\) is the population mean.\n",
        "\n",
        "## Population Variance vs. Sample Variance\n",
        "\n",
        "- **Population variance** divides by \\( N \\) because the true average (\\( \\mu \\)) is known.\n",
        "- **Sample variance** divides by \\( n-1 \\) because the sample mean (\\( \\bar{x} \\)) is just an estimate of \\( \\mu \\).\n",
        "\n",
        "## Why Divide by \\( n-1 \\) in Sample Variance?\n",
        "\n",
        "### Bessel’s Correction\n",
        "\n",
        "The adjustment of dividing by \\( n-1 \\) instead of \\( n \\) is called **Bessel’s correction**. Its purpose is to correct the bias that occurs when using a sample to estimate the variance of the larger population. Using \\( n \\) would lead to a systematic *underestimate* of the true population variance.\n",
        "\n",
        "### Degrees of Freedom\n",
        "\n",
        "**Degrees of freedom (DOF)** refer to the number of independent values in a calculation. When computing sample variance, only \\( n-1 \\) values can vary independently. This is because the sample mean is computed from the same data, so once \\( n-1 \\) values are known, the last value is determined to keep the mean fixed.\n",
        "\n",
        "### Why is There Bias?\n",
        "\n",
        "- The variance formula involves deviations from the mean.\n",
        "- When using the sample mean (\\( \\bar{x} \\)) instead of the population mean (\\( \\mu \\)), those deviations tend to be smaller, since \\( \\bar{x} \\) is \"closer\" to the sample points compared to \\( \\mu \\) .\n",
        "- Therefore, dividing by \\( n \\) underestimates the overall spread.\n",
        "- Dividing by \\( n-1 \\) increases the variance estimate, making it closer on average to the true (but unknown) population variance.\n",
        "\n",
        "### Summary Table\n",
        "\n",
        "|                | Population Variance                    | Sample Variance                                 |\n",
        "|----------------|---------------------------------------|-------------------------------------------------|\n",
        "| Formula        | \\( \\frac{1}{N}\\sum (x_i-\\mu)^2 \\)     | \\( \\frac{1}{n-1}\\sum (x_i-\\bar{x})^2 \\)         |\n",
        "| Mean Used      | True mean (\\( \\mu \\))                 | Estimated mean (\\( \\bar{x} \\))                  |\n",
        "| Denominator    | \\( N \\)                               | \\( n-1 \\) (Bessel’s correction)                 |\n",
        "| Bias Correction| Not needed (true mean is known)        | Needed to avoid underestimating variance        |\n",
        "\n",
        "## Key Takeaways\n",
        "\n",
        "- **Sample variance** is calculated with denominator \\( n-1 \\), not \\( n \\), due to Bessel’s correction.\n",
        "- **Dividing by \\( n-1 \\)** corrects the bias in estimating the population variance and ensures the estimate is *unbiased*.\n",
        "- The reduction by 1 in the denominator reflects the loss of one degree of freedom due to estimating the mean from the sample itself.\n",
        "- Using \\( n \\) in small or non-random samples underestimates the actual variability present in the population.\n",
        "- **Population variance** uses \\( N \\) in the denominator because all data and the true mean are known.\n"
      ],
      "metadata": {
        "id": "sF3p82X0E6ST"
      }
    },
    {
      "cell_type": "markdown",
      "source": [
        "#### **Population Mean (μ)**\n",
        "\n",
        "The population mean (μ) is the average of all data points in the population.\n",
        "\n",
        "$$\n",
        "\\mu = \\frac{1}{N} \\sum_{i=1}^N x_i\n",
        "$$\n",
        "\n",
        "- $N$: Total number of data points in the population\n",
        "- $x_i$: Each data point in the population\n"
      ],
      "metadata": {
        "id": "HrR-bKcdFrgw"
      }
    },
    {
      "cell_type": "code",
      "source": [
        "# Example: Population Mean Calculation\n",
        "\n",
        "# Population data\n",
        "population = [2, 4, 6, 8, 10]\n",
        "\n",
        "# Calculating population mean (μ)\n",
        "mu = sum(population) / len(population)\n",
        "print(\"Population mean (μ):\", mu)\n"
      ],
      "metadata": {
        "colab": {
          "base_uri": "https://localhost:8080/"
        },
        "id": "IcHzsYrWDFl0",
        "outputId": "dc77e598-729c-4651-a31b-4b4659b2ed57"
      },
      "execution_count": 20,
      "outputs": [
        {
          "output_type": "stream",
          "name": "stdout",
          "text": [
            "Population mean (μ): 6.0\n"
          ]
        }
      ]
    },
    {
      "cell_type": "markdown",
      "source": [
        "#### **Population Variance (σ²)**\n",
        "\n",
        "Population variance measures the average squared deviation from the mean.\n",
        "\n",
        "$$\n",
        "\\sigma^2 = \\frac{1}{N} \\sum_{i=1}^N (x_i - \\mu)^2\n",
        "$$\n"
      ],
      "metadata": {
        "id": "mW7S-qQXFwF2"
      }
    },
    {
      "cell_type": "code",
      "source": [
        "# Example: Population Variance Calculation\n",
        "\n",
        "# Previously calculated μ\n",
        "mean = mu\n",
        "\n",
        "# Calculate squared deviations\n",
        "squared_deviations = [(x - mean) ** 2 for x in population]\n",
        "# Calculate variance σ²\n",
        "variance = sum(squared_deviations) / len(population)\n",
        "print(\"Population variance (σ²):\", variance)\n"
      ],
      "metadata": {
        "colab": {
          "base_uri": "https://localhost:8080/"
        },
        "id": "FwY2CTk3FuF1",
        "outputId": "70d95c8d-fb46-4080-ffe4-097e50177edf"
      },
      "execution_count": 21,
      "outputs": [
        {
          "output_type": "stream",
          "name": "stdout",
          "text": [
            "Population variance (σ²): 8.0\n"
          ]
        }
      ]
    },
    {
      "cell_type": "markdown",
      "source": [
        "#### **Population Standard Deviation (σ)**\n",
        "\n",
        "Standard deviation is the square root of variance:\n",
        "\n",
        "$$\n",
        "\\sigma = \\sqrt{\\sigma^2}\n",
        "$$\n",
        "\n",
        "It tells us on average how far data points are from the mean.\n"
      ],
      "metadata": {
        "id": "mOLzkyUqF045"
      }
    },
    {
      "cell_type": "code",
      "source": [
        "import math\n",
        "\n",
        "# Standard deviation calculation\n",
        "std_dev = math.sqrt(variance)\n",
        "print(\"Population standard deviation (σ):\", std_dev)\n"
      ],
      "metadata": {
        "colab": {
          "base_uri": "https://localhost:8080/"
        },
        "id": "Hp8eN5LoFyhI",
        "outputId": "df0af349-2bec-4e14-9c97-a759a120e366"
      },
      "execution_count": 22,
      "outputs": [
        {
          "output_type": "stream",
          "name": "stdout",
          "text": [
            "Population standard deviation (σ): 2.8284271247461903\n"
          ]
        }
      ]
    },
    {
      "cell_type": "markdown",
      "source": [
        "#### **Interpretation of Standard Deviation**\n",
        "\n",
        "If the mean is 3 and the standard deviation is 1:\n",
        "- A data point of 4 is 1 standard deviation above the mean.\n",
        "- A data point of 2 is 1 standard deviation below the mean.\n",
        "- A data point of 4.5 is 1.5 standard deviations above the mean.\n",
        "\n",
        "$$\n",
        "\\text{Number of std deviations} = \\frac{\\text{data point} - \\text{mean}}{\\text{std dev}}\n",
        "$$\n"
      ],
      "metadata": {
        "id": "skYAvo91F47P"
      }
    },
    {
      "cell_type": "code",
      "source": [
        "# Example: How far are data points from the mean?\n",
        "mean = 3\n",
        "std = 1\n",
        "\n",
        "for x in [4, 2, 4.5]:\n",
        "    std_away = (x - mean) / std\n",
        "    print(f\"Data point {x} is {std_away} standard deviation(s) from the mean.\")\n"
      ],
      "metadata": {
        "colab": {
          "base_uri": "https://localhost:8080/"
        },
        "id": "XFmieWu_F3Jl",
        "outputId": "ffaab94d-8da9-44c3-81c2-5bf5804c1787"
      },
      "execution_count": 23,
      "outputs": [
        {
          "output_type": "stream",
          "name": "stdout",
          "text": [
            "Data point 4 is 1.0 standard deviation(s) from the mean.\n",
            "Data point 2 is -1.0 standard deviation(s) from the mean.\n",
            "Data point 4.5 is 1.5 standard deviation(s) from the mean.\n"
          ]
        }
      ]
    },
    {
      "cell_type": "markdown",
      "source": [
        "#### **Sample Mean ($\\overline{x}$)**\n",
        "\n",
        "Sample mean is the average of the sample data points.\n",
        "\n",
        "$$\n",
        "\\overline{x} = \\frac{1}{n} \\sum_{i=1}^n x_i\n",
        "$$\n",
        "\n",
        "- $n$: Sample size\n",
        "- $x_i$: Sample data points\n"
      ],
      "metadata": {
        "id": "MLyHLgHAF-Wz"
      }
    },
    {
      "cell_type": "code",
      "source": [
        "# Example: Sample Mean Calculation\n",
        "sample = [3, 5, 7, 9]\n",
        "\n",
        "sample_mean = sum(sample) / len(sample)\n",
        "print(\"Sample mean (x̄):\", sample_mean)\n"
      ],
      "metadata": {
        "colab": {
          "base_uri": "https://localhost:8080/"
        },
        "id": "Y4V-sZbrF8G5",
        "outputId": "f453484f-906b-4126-fa91-eac6e6022f12"
      },
      "execution_count": 24,
      "outputs": [
        {
          "output_type": "stream",
          "name": "stdout",
          "text": [
            "Sample mean (x̄): 6.0\n"
          ]
        }
      ]
    },
    {
      "cell_type": "markdown",
      "source": [
        "#### **Sample Variance ($s^2$)**\n",
        "\n",
        "Sample variance uses $n-1$ in the denominator (Bessel's correction):\n",
        "\n",
        "$$\n",
        "s^2 = \\frac{1}{n-1} \\sum_{i=1}^n (x_i - \\overline{x})^2\n",
        "$$\n"
      ],
      "metadata": {
        "id": "NvIOSykSGDB4"
      }
    },
    {
      "cell_type": "code",
      "source": [
        "# Example: Sample Variance Calculation\n",
        "\n",
        "n = len(sample)\n",
        "x_bar = sample_mean\n",
        "\n",
        "# Calculate squared deviations from sample mean\n",
        "squared_deviations = [(x - x_bar) ** 2 for x in sample]\n",
        "\n",
        "# Calculate sample variance with Bessel's correction\n",
        "sample_variance = sum(squared_deviations) / (n - 1)\n",
        "print(\"Sample variance (s²):\", sample_variance)\n"
      ],
      "metadata": {
        "colab": {
          "base_uri": "https://localhost:8080/"
        },
        "id": "dsK3knF9GAw_",
        "outputId": "a720d587-7d27-46f0-dabf-79b6852d90af"
      },
      "execution_count": 25,
      "outputs": [
        {
          "output_type": "stream",
          "name": "stdout",
          "text": [
            "Sample variance (s²): 6.666666666666667\n"
          ]
        }
      ]
    },
    {
      "cell_type": "markdown",
      "source": [
        "#### **Sample Standard Deviation ($s$)**\n",
        "\n",
        "Sample standard deviation is the square root of the sample variance:\n",
        "\n",
        "$$\n",
        "s = \\sqrt{s^2}\n",
        "$$\n"
      ],
      "metadata": {
        "id": "D0SMZXM4GItG"
      }
    },
    {
      "cell_type": "code",
      "source": [
        "sample_std_dev = math.sqrt(sample_variance)\n",
        "print(\"Sample standard deviation (s):\", sample_std_dev)\n"
      ],
      "metadata": {
        "colab": {
          "base_uri": "https://localhost:8080/"
        },
        "id": "6Od0YY1vGFrV",
        "outputId": "f6826fed-5cfc-4784-fd52-db8152cccd92"
      },
      "execution_count": 26,
      "outputs": [
        {
          "output_type": "stream",
          "name": "stdout",
          "text": [
            "Sample standard deviation (s): 2.581988897471611\n"
          ]
        }
      ]
    },
    {
      "cell_type": "markdown",
      "source": [
        "#### **Summary and Key Takeaways**\n",
        "\n",
        "- **Population mean ($\\mu$):** Average of population data\n",
        "- **Population variance ($\\sigma^2$):** Average squared deviation, denominator is $N$\n",
        "- **Population std dev ($\\sigma$):** Square root of population variance\n",
        "\n",
        "- **Sample mean ($\\overline{x}$):** Average of sample data\n",
        "- **Sample variance ($s^2$):** Average squared deviation, denominator is $n-1$ (Bessel's correction)\n",
        "- **Sample std dev ($s$):** Square root of sample variance\n",
        "\n",
        "- **Standard deviation** indicates the spread/dispersion of data.\n",
        "- **Population formulas:** Use $N$.\n",
        "- **Sample formulas:** Use $n$ and $n-1$.\n"
      ],
      "metadata": {
        "id": "HjxJUwtqGNq5"
      }
    },
    {
      "cell_type": "markdown",
      "source": [
        "### Example Dataset\n",
        "\n",
        "We will use the following dataset of ages:\n",
        "\n",
        "23, 24, 25, 30, 34, 36, 40, 50, 60, 75, 80\n",
        "\n",
        "Let's plot a histogram using this data.\n"
      ],
      "metadata": {
        "id": "7CfmeG1KGf1B"
      }
    },
    {
      "cell_type": "code",
      "source": [
        "# Import required libraries\n",
        "import matplotlib.pyplot as plt\n",
        "\n",
        "# Sample age data\n",
        "ages = [23, 24, 25, 30, 34, 36, 40, 50, 60, 75, 80]\n",
        "\n",
        "# Define the bin edges for the histogram\n",
        "bins = [0, 10, 20, 30, 40, 50, 60, 70, 80]\n",
        "\n",
        "# Plotting the histogram\n",
        "plt.figure(figsize=(8, 5))\n",
        "plt.hist(ages, bins=bins, edgecolor='black', color='skyblue')\n",
        "\n",
        "plt.title('Histogram of Age Data')\n",
        "plt.xlabel('Age')\n",
        "plt.ylabel('Number of People')\n",
        "plt.xticks(bins)\n",
        "plt.grid(axis='y', linestyle='--', alpha=0.7)\n",
        "plt.show()\n"
      ],
      "metadata": {
        "colab": {
          "base_uri": "https://localhost:8080/",
          "height": 487
        },
        "id": "zPQOLQrpGLL1",
        "outputId": "061f213d-4c14-4341-cb93-ada0c47f491a"
      },
      "execution_count": 27,
      "outputs": [
        {
          "output_type": "display_data",
          "data": {
            "text/plain": [
              "<Figure size 800x500 with 1 Axes>"
            ],
            "image/png": "[encoded data removed]"
          },
          "metadata": {}
        }
      ]
    },
    {
      "cell_type": "markdown",
      "source": [
        "- Each bar (bin) shows how many data points (ages) fall within the specified interval.\n",
        "- Bins are of equal width here (10 years per bin).\n",
        "- Adjusting the number or width of bins changes the histogram's appearance and detail.\n"
      ],
      "metadata": {
        "id": "BUKDnisTGl8Q"
      }
    },
    {
      "cell_type": "markdown",
      "source": [
        "Let's count the number of ages in each bin:\n",
        "- 20–30: 23, 24, 25, 30 → 4 people\n",
        "- 30–40: 34, 36, 40 → 3 people\n",
        "- 40–50: None\n",
        "- 50–60: 50, 60 → 2 people\n",
        "- 60–70: None\n",
        "- 70–80: 75, 80 → 2 people\n"
      ],
      "metadata": {
        "id": "yHruELwOGolW"
      }
    },
    {
      "cell_type": "code",
      "source": [
        "# Compare histograms with different bin widths\n",
        "plt.figure(figsize=(14,4))\n",
        "\n",
        "plt.subplot(1,2,1)\n",
        "plt.hist(ages, bins=5, edgecolor='black', color='lightcoral')\n",
        "plt.title('Histogram with 5 bins')\n",
        "plt.xlabel('Age')\n",
        "plt.ylabel('Frequency')\n",
        "\n",
        "plt.subplot(1,2,2)\n",
        "plt.hist(ages, bins=10, edgecolor='black', color='mediumseagreen')\n",
        "plt.title('Histogram with 10 bins')\n",
        "plt.xlabel('Age')\n",
        "plt.ylabel('Frequency')\n",
        "\n",
        "plt.tight_layout()\n",
        "plt.show()\n"
      ],
      "metadata": {
        "colab": {
          "base_uri": "https://localhost:8080/",
          "height": 347
        },
        "id": "463F8IXmGjPp",
        "outputId": "ac9a2f94-4e17-4847-cd34-62e145382c45"
      },
      "execution_count": 28,
      "outputs": [
        {
          "output_type": "display_data",
          "data": {
            "text/plain": [
              "<Figure size 1400x400 with 2 Axes>"
            ],
            "image/png": "[encoded data removed]"
          },
          "metadata": {}
        }
      ]
    },
    {
      "cell_type": "markdown",
      "source": [
        "- A smaller number of bins gives a rough overview; more bins reveal finer structure.\n"
      ],
      "metadata": {
        "id": "PUxmjCOOGvb8"
      }
    },
    {
      "cell_type": "markdown",
      "source": [
        "- **Continuous data:** Data is measured (e.g., heights, weights, ages), and bins represent intervals (as above).\n",
        "- **Discrete data:** Data is counted (e.g., the number of pets), and each value can have its own bar.\n"
      ],
      "metadata": {
        "id": "TbeNoUGUGwoa"
      }
    },
    {
      "cell_type": "code",
      "source": [
        "# Example: Histogram for discrete data (number of pets per person)\n",
        "pet_counts = [0, 1, 2, 1, 0, 3, 1, 2, 0, 1, 0, 2, 1, 1, 0]\n",
        "\n",
        "plt.figure(figsize=(6,4))\n",
        "plt.hist(pet_counts, bins=[-0.5, 0.5, 1.5, 2.5, 3.5], edgecolor='black', color='gold', rwidth=0.8)\n",
        "plt.title('Histogram of Number of Pets')\n",
        "plt.xlabel('Number of Pets')\n",
        "plt.ylabel('Number of People')\n",
        "plt.xticks([0, 1, 2, 3])\n",
        "plt.show()\n"
      ],
      "metadata": {
        "colab": {
          "base_uri": "https://localhost:8080/",
          "height": 410
        },
        "id": "-SvXlWgaGrxV",
        "outputId": "3f34fd8e-6cbe-4bb0-d0d5-c23002668e01"
      },
      "execution_count": 29,
      "outputs": [
        {
          "output_type": "display_data",
          "data": {
            "text/plain": [
              "<Figure size 600x400 with 1 Axes>"
            ],
            "image/png": "[encoded data removed]"
          },
          "metadata": {}
        }
      ]
    },
    {
      "cell_type": "markdown",
      "source": [
        "- Each bar covers a possible discrete value. There is no overlap between the bars.\n"
      ],
      "metadata": {
        "id": "ERy7jAZbG3P5"
      }
    },
    {
      "cell_type": "markdown",
      "source": [
        "- As the number of data points increases, and the bins become smaller, the histogram begins to resemble the probability density function (PDF) of the data.\n",
        "- The PDF is a smooth curve that describes the likelihood of a random variable taking specific values.\n"
      ],
      "metadata": {
        "id": "ZkQluBuqG5cK"
      }
    },
    {
      "cell_type": "code",
      "source": [
        "# Overlaying a Kernel Density Estimate (KDE) on histogram\n",
        "import seaborn as sns\n",
        "\n",
        "plt.figure(figsize=(8,5))\n",
        "sns.histplot(ages, bins=bins, kde=True, color='slateblue', edgecolor='black', stat='density')\n",
        "plt.title('Histogram with Kernel Density Estimate')\n",
        "plt.xlabel('Age')\n",
        "plt.ylabel('Density')\n",
        "plt.xticks(bins)\n",
        "plt.show()\n"
      ],
      "metadata": {
        "colab": {
          "base_uri": "https://localhost:8080/",
          "height": 487
        },
        "id": "32w_vC5tG093",
        "outputId": "e8f59e34-cc1c-45c3-e725-d549392fad9b"
      },
      "execution_count": 30,
      "outputs": [
        {
          "output_type": "display_data",
          "data": {
            "text/plain": [
              "<Figure size 800x500 with 1 Axes>"
            ],
            "image/png": "[encoded data removed]"
          },
          "metadata": {}
        }
      ]
    },
    {
      "cell_type": "markdown",
      "source": [
        "- The smooth blue curve is the **kernel density estimation (KDE)**, which approximates the PDF.\n",
        "- KDE \"smooths\" the histogram, helping visualize data distribution patterns more clearly.\n"
      ],
      "metadata": {
        "id": "l8_nPrrNG_LU"
      }
    },
    {
      "cell_type": "markdown",
      "source": [
        "- **Histogram:** Visualizes the frequency distribution of a dataset by binning values.\n",
        "- **Bins:** Intervals into which data are grouped; changing bin size/number changes the resolution of the histogram.\n",
        "- **Continuous vs. Discrete:** Use intervals for continuous data, and single-value bars for discrete data.\n",
        "- **Probability Density Function (PDF):** A smooth curve showing the probability of a value, which can be approximated from a histogram as data and bins increase.\n",
        "- **Kernel Density Estimation (KDE):** A technique to smooth the histogram into a continuous PDF.\n"
      ],
      "metadata": {
        "id": "gngXqT_IHB3Y"
      }
    },
    {
      "cell_type": "markdown",
      "source": [
        "- Each data point is assigned to a single bin based on its value.\n",
        "- Overlapping or repeated data points within a bin only increase the frequency count for that bin.\n",
        "- Use histogram visualizations to identify the spread, skewness, peaks (modes), and potential outliers in your data.\n"
      ],
      "metadata": {
        "id": "hYkI2JLuHFVH"
      }
    },
    {
      "cell_type": "markdown",
      "source": [
        "- Histograms help us understand the shape and spread of data at a glance.\n",
        "- The way we choose bin size and number affects what we see.\n",
        "- Histogram smoothing with methods like KDE enables deeper analysis, bridging descriptive statistics and probability distributions.\n"
      ],
      "metadata": {
        "id": "EKYNOWKXHHZe"
      }
    },
    {
      "cell_type": "markdown",
      "source": [
        "# Percentile And Quartiles - Descriptive Statistics\n",
        "\n",
        "In statistics, *percentages*, *percentiles*, and *quartiles* are ways to describe the position or distribution of data.\n",
        "Let's review percentage with a simple example.\n"
      ],
      "metadata": {
        "id": "5N4rOdYjHmDt"
      }
    },
    {
      "cell_type": "code",
      "source": [
        "# Example: Calculating the percentage of odd numbers in a list\n",
        "\n",
        "numbers = [1, 2, 3, 4, 5, 6]\n",
        "\n",
        "# Count odd numbers\n",
        "odd_numbers = [num for num in numbers if num % 2 == 1]\n",
        "percent_odd = len(odd_numbers) / len(numbers) * 100\n",
        "\n",
        "print(f\"Odd numbers: {odd_numbers}\")\n",
        "print(f\"Percentage of odd numbers: {percent_odd:.2f}%\")\n",
        "\n",
        "# Similarly, calculate percentage of even numbers\n",
        "even_numbers = [num for num in numbers if num % 2 == 0]\n",
        "percent_even = len(even_numbers) / len(numbers) * 100\n",
        "\n",
        "print(f\"Even numbers: {even_numbers}\")\n",
        "print(f\"Percentage of even numbers: {percent_even:.2f}%\")\n"
      ],
      "metadata": {
        "colab": {
          "base_uri": "https://localhost:8080/"
        },
        "id": "OHJOTEb6G76k",
        "outputId": "93dd2acf-7a14-498a-a746-cd61f3bcec78"
      },
      "execution_count": 31,
      "outputs": [
        {
          "output_type": "stream",
          "name": "stdout",
          "text": [
            "Odd numbers: [1, 3, 5]\n",
            "Percentage of odd numbers: 50.00%\n",
            "Even numbers: [2, 4, 6]\n",
            "Percentage of even numbers: 50.00%\n"
          ]
        }
      ]
    },
    {
      "cell_type": "markdown",
      "source": [
        "# Understanding Percentiles\n",
        "\n",
        "A *percentile* is the value below which a given percentage of the data falls.\n",
        "The formula for the percentile rank of a value x is:\n",
        "\n",
        "Percentile of x = (Number of values below x / Total number of values) * 100\n"
      ],
      "metadata": {
        "id": "_4MZhBzXHqSy"
      }
    },
    {
      "cell_type": "code",
      "source": [
        "# Example: Finding the percentile rank of the value 9\n",
        "\n",
        "data = [2, 2, 3, 4, 5, 5, 6, 7, 8, 8, 9, 9, 10]\n",
        "x = 9\n",
        "\n",
        "# Count the number of values below x\n",
        "below_x = [num for num in data if num < x]\n",
        "percentile_rank = len(below_x) / len(data) * 100\n",
        "\n",
        "print(f\"Data: {data}\")\n",
        "print(f\"Number of values below {x}: {len(below_x)}\")\n",
        "print(f\"Percentile rank of {x}: {percentile_rank:.2f}%\")\n"
      ],
      "metadata": {
        "colab": {
          "base_uri": "https://localhost:8080/"
        },
        "id": "FGYXwKASHoGy",
        "outputId": "f9c80cfe-a162-4382-d005-56bffdbaee3b"
      },
      "execution_count": 32,
      "outputs": [
        {
          "output_type": "stream",
          "name": "stdout",
          "text": [
            "Data: [2, 2, 3, 4, 5, 5, 6, 7, 8, 8, 9, 9, 10]\n",
            "Number of values below 9: 10\n",
            "Percentile rank of 9: 76.92%\n"
          ]
        }
      ]
    },
    {
      "cell_type": "markdown",
      "source": [
        "# Calculating the Value at a Given Percentile\n",
        "\n",
        "To find the value corresponding to a given percentile (e.g., 25th percentile),\n",
        "we first sort the data, then use the position formula:\n",
        "\n",
        "Position = (P / 100) * (n + 1)\n",
        "\n",
        "If the position is not an integer, we interpolate between the two surrounding values.\n"
      ],
      "metadata": {
        "id": "-XN8KH5MHvJW"
      }
    },
    {
      "cell_type": "code",
      "source": [
        "# Example: Find the 25th percentile value in the data\n",
        "\n",
        "import numpy as np\n",
        "\n",
        "data_sorted = sorted(data)  # Ensure data is sorted\n",
        "P = 25  # 25th percentile\n",
        "n = len(data_sorted)\n",
        "\n",
        "# Find the position\n",
        "pos = (P / 100) * (n + 1)\n",
        "\n",
        "print(f\"Sorted data: {data_sorted}\")\n",
        "print(f\"Position for {P}th percentile: {pos}\")\n",
        "\n",
        "# Interpolate if pos is fractional\n",
        "if pos.is_integer():\n",
        "    percentile_value = data_sorted[int(pos)-1]\n",
        "else:\n",
        "    lower_idx = int(pos) - 1\n",
        "    upper_idx = lower_idx + 1\n",
        "    fraction = pos - int(pos)\n",
        "    # Interpolate between the values\n",
        "    lower_value = data_sorted[lower_idx]\n",
        "    upper_value = data_sorted[upper_idx]\n",
        "    percentile_value = lower_value + fraction * (upper_value - lower_value)\n",
        "\n",
        "print(f\"{P}th percentile value (interpolated): {percentile_value}\")\n"
      ],
      "metadata": {
        "colab": {
          "base_uri": "https://localhost:8080/"
        },
        "id": "bC_J_UsJHsfL",
        "outputId": "10acb23d-4fc8-4064-d38f-4dbd87979cfa"
      },
      "execution_count": 33,
      "outputs": [
        {
          "output_type": "stream",
          "name": "stdout",
          "text": [
            "Sorted data: [2, 2, 3, 4, 5, 5, 6, 7, 8, 8, 9, 9, 10]\n",
            "Position for 25th percentile: 3.5\n",
            "25th percentile value (interpolated): 3.5\n"
          ]
        }
      ]
    },
    {
      "cell_type": "markdown",
      "source": [
        "# Introduction to Quartiles\n",
        "\n",
        "*Quartiles* are specific percentiles that divide data into four equal parts:\n",
        "\n",
        "- Q1 (First Quartile) = 25th percentile\n",
        "- Q2 (Second Quartile, also the median) = 50th percentile\n",
        "- Q3 (Third Quartile) = 75th percentile\n",
        "\n",
        "Let's compute all three quartiles for our data both manually and using numpy.\n"
      ],
      "metadata": {
        "id": "EZ3yjRv8H0ER"
      }
    },
    {
      "cell_type": "code",
      "source": [
        "# Calculate quartiles manually\n",
        "\n",
        "def calculate_percentile_value(sorted_data, percentile):\n",
        "    n = len(sorted_data)\n",
        "    pos = (percentile / 100) * (n + 1)\n",
        "    if pos.is_integer():\n",
        "        return sorted_data[int(pos)-1]\n",
        "    else:\n",
        "        lower_idx = int(pos) - 1\n",
        "        upper_idx = lower_idx + 1\n",
        "        fraction = pos - int(pos)\n",
        "        lower_value = sorted_data[lower_idx]\n",
        "        upper_value = sorted_data[upper_idx]\n",
        "        return lower_value + fraction * (upper_value - lower_value)\n",
        "\n",
        "Q1 = calculate_percentile_value(data_sorted, 25)\n",
        "Q2 = calculate_percentile_value(data_sorted, 50)\n",
        "Q3 = calculate_percentile_value(data_sorted, 75)\n",
        "\n",
        "print(f\"Q1 (25th percentile): {Q1}\")\n",
        "print(f\"Q2 (Median, 50th percentile): {Q2}\")\n",
        "print(f\"Q3 (75th percentile): {Q3}\")\n",
        "\n",
        "# Using numpy\n",
        "Q1_np = np.percentile(data, 25)\n",
        "Q2_np = np.percentile(data, 50)\n",
        "Q3_np = np.percentile(data, 75)\n",
        "\n",
        "print(\"\\nUsing numpy's percentile function:\")\n",
        "print(f\"Q1 (25th percentile): {Q1_np}\")\n",
        "print(f\"Q2 (Median, 50th percentile): {Q2_np}\")\n",
        "print(f\"Q3 (75th percentile): {Q3_np}\")\n"
      ],
      "metadata": {
        "colab": {
          "base_uri": "https://localhost:8080/"
        },
        "id": "nyg5PNMgHyFG",
        "outputId": "2ff29c8e-74e9-470d-f83a-167f0260ed2f"
      },
      "execution_count": 34,
      "outputs": [
        {
          "output_type": "stream",
          "name": "stdout",
          "text": [
            "Q1 (25th percentile): 3.5\n",
            "Q2 (Median, 50th percentile): 6\n",
            "Q3 (75th percentile): 8.5\n",
            "\n",
            "Using numpy's percentile function:\n",
            "Q1 (25th percentile): 4.0\n",
            "Q2 (Median, 50th percentile): 6.0\n",
            "Q3 (75th percentile): 8.0\n"
          ]
        }
      ]
    },
    {
      "cell_type": "markdown",
      "source": [
        "# Key Takeaways\n",
        "\n",
        "- **Percentile of a value**: Tells you what percent of data falls below that value.\n",
        "- **Percentile value**: Given a percentile, tells you which value in your data corresponds to that percentile position.\n",
        "- **Quartiles**: Special percentiles 25th, 50th, 75th that split your data into four quarters.\n",
        "- **Interpolation**: If the percentile position isn't an integer, we interpolate between two data points for more accurate results.\n",
        "\n",
        "Understanding percentiles and quartiles is fundamental for summarizing and interpreting data distributions in statistics.\n"
      ],
      "metadata": {
        "id": "fdzcfZhLIFX6"
      }
    },
    {
      "cell_type": "code",
      "source": [
        "# Practice: Replace this list with your own data and observe the output\n",
        "\n",
        "your_data = [15, 20, 35, 40, 50, 60, 75, 80, 90]\n",
        "your_sorted = sorted(your_data)\n",
        "\n",
        "print(\"Your sorted data:\", your_sorted)\n",
        "\n",
        "for p in [25, 50, 75]:\n",
        "    val = calculate_percentile_value(your_sorted, p)\n",
        "    print(f\"{p}th percentile: {val}\")\n"
      ],
      "metadata": {
        "colab": {
          "base_uri": "https://localhost:8080/"
        },
        "id": "osUt1BIwH3No",
        "outputId": "6b571462-2f89-41b4-ce76-bcf65161a917"
      },
      "execution_count": 37,
      "outputs": [
        {
          "output_type": "stream",
          "name": "stdout",
          "text": [
            "Your sorted data: [15, 20, 35, 40, 50, 60, 75, 80, 90]\n",
            "25th percentile: 27.5\n",
            "50th percentile: 50\n",
            "75th percentile: 77.5\n"
          ]
        }
      ]
    },
    {
      "cell_type": "markdown",
      "source": [
        "# Five Number Summary - Descriptive Statistics\n",
        "\n",
        "The **five number summary** is a collection of descriptive statistics that provide a concise overview of a dataset. It is widely used in data analysis, feature selection, and outlier detection in machine learning.\n",
        "\n",
        "**The five components are:**\n",
        "- **Minimum**: The smallest data point.\n",
        "- **First Quartile (Q1)**: 25th percentile.\n",
        "- **Median**: 50th percentile.\n",
        "- **Third Quartile (Q3)**: 75th percentile.\n",
        "- **Maximum**: The largest data point.\n",
        "\n",
        "These five values summarize the distribution, central tendency, and spread of the data.\n"
      ],
      "metadata": {
        "id": "2WGoEXOqIWKq"
      }
    },
    {
      "cell_type": "code",
      "source": [
        "# Example dataset with an outlier\n",
        "data = [1, 2, 2, 3, 3, 4, 5, 5, 5, 6, 6, 6, 6, 7, 8, 8, 9, 27]\n",
        "\n",
        "# Sort the dataset for easier analysis\n",
        "data_sorted = sorted(data)\n",
        "\n",
        "print(\"Sorted Data:\", data_sorted)\n",
        "print(\"Total Data Points:\", len(data_sorted))\n"
      ],
      "metadata": {
        "colab": {
          "base_uri": "https://localhost:8080/"
        },
        "id": "CmeY78hiH_Lt",
        "outputId": "f7184cae-befb-453f-bc3b-151d795b170e"
      },
      "execution_count": 38,
      "outputs": [
        {
          "output_type": "stream",
          "name": "stdout",
          "text": [
            "Sorted Data: [1, 2, 2, 3, 3, 4, 5, 5, 5, 6, 6, 6, 6, 7, 8, 8, 9, 27]\n",
            "Total Data Points: 18\n"
          ]
        }
      ]
    },
    {
      "cell_type": "markdown",
      "source": [
        "## Identifying Outliers\n",
        "\n",
        "Outliers are values that differ significantly from other observations in your data.\n",
        "- In the sample data, the value **27** appears much larger than the rest and is likely to be an outlier.\n",
        "- We use **lower** and **upper fences** based on quartiles and the interquartile range (IQR) to systematically identify outliers.\n"
      ],
      "metadata": {
        "id": "49WUCdohIagh"
      }
    },
    {
      "cell_type": "code",
      "source": [
        "import numpy as np\n",
        "\n",
        "# Compute quartiles using numpy's percentile function\n",
        "Q1 = np.percentile(data_sorted, 25)  # First quartile (25th percentile)\n",
        "Q2 = np.percentile(data_sorted, 50)  # Median (50th percentile)\n",
        "Q3 = np.percentile(data_sorted, 75)  # Third quartile (75th percentile)\n",
        "\n",
        "# Calculate IQR (Interquartile Range)\n",
        "IQR = Q3 - Q1\n",
        "\n",
        "print(f\"Q1 (25th percentile): {Q1}\")\n",
        "print(f\"Q2 (Median): {Q2}\")\n",
        "print(f\"Q3 (75th percentile): {Q3}\")\n",
        "print(f\"IQR (Q3 - Q1): {IQR}\")\n",
        "\n",
        "# Calculate Lower and Upper Fences\n",
        "lower_fence = Q1 - 1.5 * IQR\n",
        "upper_fence = Q3 + 1.5 * IQR\n",
        "print(f\"Lower Fence: {lower_fence}\")\n",
        "print(f\"Upper Fence: {upper_fence}\")\n"
      ],
      "metadata": {
        "colab": {
          "base_uri": "https://localhost:8080/"
        },
        "id": "KVF4uXbdIYv0",
        "outputId": "9d09f364-0161-450c-f743-81486fd9d50a"
      },
      "execution_count": 39,
      "outputs": [
        {
          "output_type": "stream",
          "name": "stdout",
          "text": [
            "Q1 (25th percentile): 3.25\n",
            "Q2 (Median): 5.5\n",
            "Q3 (75th percentile): 6.75\n",
            "IQR (Q3 - Q1): 3.5\n",
            "Lower Fence: -2.0\n",
            "Upper Fence: 12.0\n"
          ]
        }
      ]
    },
    {
      "cell_type": "markdown",
      "source": [
        "## Removing Outliers Using Fences\n",
        "\n",
        "- **Lower Fence**: Any value below this is considered an outlier.\n",
        "- **Upper Fence**: Any value above this is considered an outlier.\n",
        "\n",
        "After identifying the fences, remove the outliers to analyze the 'cleaned' data.\n"
      ],
      "metadata": {
        "id": "JgPYK96DIfTX"
      }
    },
    {
      "cell_type": "code",
      "source": [
        "# Detect outliers\n",
        "outliers = [x for x in data_sorted if x < lower_fence or x > upper_fence]\n",
        "print(\"Outliers in the dataset:\", outliers)\n",
        "\n",
        "# Remove outliers\n",
        "data_no_outliers = [x for x in data_sorted if lower_fence <= x <= upper_fence]\n",
        "print(\"Data without outliers:\", data_no_outliers)\n"
      ],
      "metadata": {
        "colab": {
          "base_uri": "https://localhost:8080/"
        },
        "id": "et7T6eb5Idbq",
        "outputId": "acb1b92b-1ad1-4b20-dcdb-bd93f9b5f931"
      },
      "execution_count": 40,
      "outputs": [
        {
          "output_type": "stream",
          "name": "stdout",
          "text": [
            "Outliers in the dataset: [27]\n",
            "Data without outliers: [1, 2, 2, 3, 3, 4, 5, 5, 5, 6, 6, 6, 6, 7, 8, 8, 9]\n"
          ]
        }
      ]
    },
    {
      "cell_type": "markdown",
      "source": [
        "## Five Number Summary (After Removing Outliers)\n",
        "\n",
        "Now, compute the five number summary for the cleaned dataset (after removing outliers).\n",
        "\n",
        "- **Minimum**: Smallest value in the data.\n",
        "- **Q1**: 25th percentile.\n",
        "- **Median**: 50th percentile.\n",
        "- **Q3**: 75th percentile.\n",
        "- **Maximum**: Largest value.\n"
      ],
      "metadata": {
        "id": "72e9AVwDIjkl"
      }
    },
    {
      "cell_type": "code",
      "source": [
        "# Compute five number summary on data without outliers\n",
        "min_val = min(data_no_outliers)\n",
        "q1 = np.percentile(data_no_outliers, 25)\n",
        "median = np.percentile(data_no_outliers, 50)\n",
        "q3 = np.percentile(data_no_outliers, 75)\n",
        "max_val = max(data_no_outliers)\n",
        "\n",
        "print(\"Five Number Summary (no outliers):\")\n",
        "print(f\"Minimum: {min_val}\")\n",
        "print(f\"Q1 (25th percentile): {q1}\")\n",
        "print(f\"Median: {median}\")\n",
        "print(f\"Q3 (75th percentile): {q3}\")\n",
        "print(f\"Maximum: {max_val}\")\n"
      ],
      "metadata": {
        "colab": {
          "base_uri": "https://localhost:8080/"
        },
        "id": "LgGt9WpaIhgT",
        "outputId": "55004270-4d40-4726-8134-d13d1ba055dd"
      },
      "execution_count": 41,
      "outputs": [
        {
          "output_type": "stream",
          "name": "stdout",
          "text": [
            "Five Number Summary (no outliers):\n",
            "Minimum: 1\n",
            "Q1 (25th percentile): 3.0\n",
            "Median: 5.0\n",
            "Q3 (75th percentile): 6.0\n",
            "Maximum: 9\n"
          ]
        }
      ]
    },
    {
      "cell_type": "markdown",
      "source": [
        "## Visualizing the Five Number Summary: Box Plot\n",
        "\n",
        "A **box plot** (or whisker plot) graphically shows:\n",
        "- The five number summary,\n",
        "- The spread and skewness of the data,\n",
        "- Outliers (as individual points beyond \"whiskers\").\n",
        "\n",
        "Let's plot the original and the cleaned data for comparison.\n"
      ],
      "metadata": {
        "id": "TkfpxGI4Iorr"
      }
    },
    {
      "cell_type": "code",
      "source": [
        "import matplotlib.pyplot as plt\n",
        "\n",
        "plt.figure(figsize=(10, 5))\n",
        "\n",
        "# Box plot for original data\n",
        "plt.subplot(1,2,1)\n",
        "plt.boxplot(data_sorted, vert=False)\n",
        "plt.title(\"Original Data (with Outlier)\")\n",
        "plt.xlabel(\"Value\")\n",
        "\n",
        "# Box plot for cleaned data\n",
        "plt.subplot(1,2,2)\n",
        "plt.boxplot(data_no_outliers, vert=False)\n",
        "plt.title(\"Data (without Outlier)\")\n",
        "plt.xlabel(\"Value\")\n",
        "\n",
        "plt.tight_layout()\n",
        "plt.show()\n"
      ],
      "metadata": {
        "colab": {
          "base_uri": "https://localhost:8080/",
          "height": 507
        },
        "id": "dfuMZFSgImtA",
        "outputId": "cdc39dd9-caff-4936-9b6b-c39c8a17b90d"
      },
      "execution_count": 42,
      "outputs": [
        {
          "output_type": "display_data",
          "data": {
            "text/plain": [
              "<Figure size 1000x500 with 2 Axes>"
            ],
            "image/png": "[encoded data removed]"
          },
          "metadata": {}
        }
      ]
    },
    {
      "cell_type": "markdown",
      "source": [
        "# Key Takeaways\n",
        "\n",
        "- The **five number summary** (Minimum, Q1, Median, Q3, Maximum) provides a concise picture of the data's distribution.\n",
        "- **Outliers** are identified using fences based on quartiles and the IQR, and can be removed to present a clearer analysis.\n",
        "- **Box plots** are powerful visualization tools for understanding distribution, spread, and outliers.\n",
        "- The five number summary is essential in data preprocessing and exploration, especially for machine learning.\n"
      ],
      "metadata": {
        "id": "Y3XtK6xBIwCi"
      }
    },
    {
      "cell_type": "markdown",
      "source": [
        "## 1. Covariance: Definition\n",
        "\n",
        "Covariance measures the extent to which two variables change together.\n",
        "\n",
        "- **Positive covariance**: Variables tend to increase/decrease together.\n",
        "- **Negative covariance**: One increases as the other decreases.\n",
        "\n",
        "The formula for sample covariance is:\n",
        "\n",
        "$$\n",
        "\\text{Cov}(x, y) = \\frac{\\sum_{i=1}^n (x_i - \\bar{x}) (y_i - \\bar{y})}{n-1}\n",
        "$$\n"
      ],
      "metadata": {
        "id": "k7uLeo1xI8fR"
      }
    },
    {
      "cell_type": "code",
      "source": [
        "import numpy as np\n",
        "\n",
        "# Example data\n",
        "x = np.array([2, 4, 6, 8])\n",
        "y = np.array([3, 5, 7, 9])\n",
        "\n",
        "# Calculate means\n",
        "x_mean = np.mean(x)\n",
        "y_mean = np.mean(y)\n",
        "\n",
        "# Calculate covariance manually\n",
        "cov = np.sum((x - x_mean) * (y - y_mean)) / (len(x) - 1)\n",
        "print(f\"Covariance (manual calculation): {cov}\")\n",
        "\n",
        "# Using numpy's built-in function (ddof=1 for sample covariance)\n",
        "cov_np = np.cov(x, y, ddof=1)[0, 1]\n",
        "print(f\"Covariance (numpy function): {cov_np}\")\n"
      ],
      "metadata": {
        "colab": {
          "base_uri": "https://localhost:8080/"
        },
        "id": "PUWpI3SuIrGt",
        "outputId": "113659b9-6ffd-41ed-ee69-1eff7abcc047"
      },
      "execution_count": 43,
      "outputs": [
        {
          "output_type": "stream",
          "name": "stdout",
          "text": [
            "Covariance (manual calculation): 6.666666666666667\n",
            "Covariance (numpy function): 6.666666666666666\n"
          ]
        }
      ]
    },
    {
      "cell_type": "markdown",
      "source": [
        "### Practical Example: House Size and Price\n",
        "\n",
        "Suppose we have house sizes and prices:\n",
        "\n",
        "| Size (sq ft) | Price (lakhs) |\n",
        "|--------------|---------------|\n",
        "| 1200         | 45            |\n",
        "| 1300         | 50            |\n",
        "| 1500         | 75            |\n",
        "\n",
        "Let's visualize this relationship with a scatter plot.\n"
      ],
      "metadata": {
        "id": "hGnY2hy6JBO8"
      }
    },
    {
      "cell_type": "code",
      "source": [
        "import matplotlib.pyplot as plt\n",
        "\n",
        "size = np.array([1200, 1300, 1500])\n",
        "price = np.array([45, 50, 75])\n",
        "\n",
        "plt.scatter(size, price, color='b', label='Houses')\n",
        "plt.xlabel('Size (sq ft)')\n",
        "plt.ylabel('Price (lakhs)')\n",
        "plt.title('House Size vs Price')\n",
        "plt.legend()\n",
        "plt.show()\n"
      ],
      "metadata": {
        "colab": {
          "base_uri": "https://localhost:8080/",
          "height": 472
        },
        "id": "nqI4egnaI_Nj",
        "outputId": "01f4b7e2-f8f3-4cb8-f31e-55af20f89bfd"
      },
      "execution_count": 44,
      "outputs": [
        {
          "output_type": "display_data",
          "data": {
            "text/plain": [
              "<Figure size 640x480 with 1 Axes>"
            ],
            "image/png": "[encoded data removed]"
          },
          "metadata": {}
        }
      ]
    },
    {
      "cell_type": "markdown",
      "source": [
        "#### This positive trend indicates positive covariance: as house size increases, price also increases.\n"
      ],
      "metadata": {
        "id": "5TxoQT1BJGWk"
      }
    },
    {
      "cell_type": "markdown",
      "source": [
        "### Negative Covariance Example\n",
        "\n",
        "| x | y  |\n",
        "|---|----|\n",
        "| 7 | 10 |\n",
        "| 6 | 12 |\n",
        "| 5 | 14 |\n",
        "| 4 | 16 |\n",
        "\n",
        "As `x` decreases, `y` increases, indicating negative covariance.\n"
      ],
      "metadata": {
        "id": "ik2D4p0BJI4S"
      }
    },
    {
      "cell_type": "code",
      "source": [
        "x_neg = np.array([7, 6, 5, 4])\n",
        "y_neg = np.array([10, 12, 14, 16])\n",
        "\n",
        "# Calculate covariance\n",
        "cov_neg = np.cov(x_neg, y_neg, ddof=1)[0, 1]\n",
        "print(f\"Negative Covariance example: {cov_neg}\")\n"
      ],
      "metadata": {
        "colab": {
          "base_uri": "https://localhost:8080/"
        },
        "id": "WakR1zuSJD-t",
        "outputId": "d2824297-1a8f-41ba-8aa7-6132ede25ed9"
      },
      "execution_count": 45,
      "outputs": [
        {
          "output_type": "stream",
          "name": "stdout",
          "text": [
            "Negative Covariance example: -3.333333333333333\n"
          ]
        }
      ]
    },
    {
      "cell_type": "markdown",
      "source": [
        "## 2. Covariance of a Variable With Itself: Variance\n",
        "\n",
        "$$\n",
        "\\text{Cov}(x, x) = \\text{Var}(x) = \\frac{\\sum_{i=1}^n (x_i - \\bar{x})^2}{n-1}\n",
        "$$\n"
      ],
      "metadata": {
        "id": "sJ2rmKDpJNSG"
      }
    },
    {
      "cell_type": "code",
      "source": [
        "# Variance is just covariance of a variable with itself\n",
        "variance_x = np.cov(x, x, ddof=1)[0, 1]\n",
        "print(f\"Variance of x: {variance_x}\")\n",
        "print(f\"np.var(x, ddof=1): {np.var(x, ddof=1)}\")\n"
      ],
      "metadata": {
        "colab": {
          "base_uri": "https://localhost:8080/"
        },
        "id": "QKpyahLqJLQi",
        "outputId": "73f4ebda-c004-4a55-eb7b-07ed36de776f"
      },
      "execution_count": 46,
      "outputs": [
        {
          "output_type": "stream",
          "name": "stdout",
          "text": [
            "Variance of x: 6.666666666666666\n",
            "np.var(x, ddof=1): 6.666666666666667\n"
          ]
        }
      ]
    },
    {
      "cell_type": "markdown",
      "source": [
        "## 3. Step-by-Step Example: Calculating Covariance\n",
        "\n",
        "**Example:** Study hours vs exam scores\n",
        "\n",
        "| Hours Studied (x) | Exam Score (y) |\n",
        "|-------------------|----------------|\n",
        "| 2                 |       50       |\n",
        "| 3                 |       60       |\n",
        "| 4                 |       70       |\n",
        "| 5                 |       80       |\n",
        "| 6                 |       90       |\n",
        "\n",
        "Let's compute the covariance step by step.\n"
      ],
      "metadata": {
        "id": "AKt13C8-JRgb"
      }
    },
    {
      "cell_type": "code",
      "source": [
        "# Input data\n",
        "x_scores = np.array([2, 3, 4, 5, 6])\n",
        "y_scores = np.array([50, 60, 70, 80, 90])\n",
        "\n",
        "# Sample means\n",
        "x_mean = np.mean(x_scores)\n",
        "y_mean = np.mean(y_scores)\n",
        "print(f\"Mean x: {x_mean}, Mean y: {y_mean}\")\n",
        "\n",
        "# Each term in the covariance sum\n",
        "products = (x_scores - x_mean) * (y_scores - y_mean)\n",
        "print(f\"(x_i - x_mean) * (y_i - y_mean) for each i: {products}\")\n",
        "\n",
        "# Sum and divide by (n-1)\n",
        "cov_score = np.sum(products) / (len(x_scores) - 1)\n",
        "print(f\"Covariance (hours studied vs exam score): {cov_score}\")\n"
      ],
      "metadata": {
        "colab": {
          "base_uri": "https://localhost:8080/"
        },
        "id": "pLDN9zJPJPiQ",
        "outputId": "c002b077-305a-4e64-8ff3-70753f2c0324"
      },
      "execution_count": 47,
      "outputs": [
        {
          "output_type": "stream",
          "name": "stdout",
          "text": [
            "Mean x: 4.0, Mean y: 70.0\n",
            "(x_i - x_mean) * (y_i - y_mean) for each i: [40. 10.  0. 10. 40.]\n",
            "Covariance (hours studied vs exam score): 25.0\n"
          ]
        }
      ]
    },
    {
      "cell_type": "markdown",
      "source": [
        "A **positive covariance** confirms that as hours increase, scores increase.\n",
        "\n",
        "---\n",
        "\n",
        "## 4. Limitations of Covariance\n",
        "\n",
        "- Covariance values are unbounded (`-∞` to `+∞`)\n",
        "- Hard to compare relationship strength between variable pairs.\n",
        "\n",
        "**Example:**\n"
      ],
      "metadata": {
        "id": "VyO6jMVSJWoM"
      }
    },
    {
      "cell_type": "code",
      "source": [
        "# Covariance values can be any real number, making them hard to compare directly.\n",
        "A = np.random.randint(0, 10, 10)\n",
        "B = np.random.randint(0, 10, 10)\n",
        "C = np.random.randint(0, 10, 10)\n",
        "\n",
        "cov_AB = np.cov(A, B, ddof=1)[0, 1]\n",
        "cov_BC = np.cov(B, C, ddof=1)[0, 1]\n",
        "cov_AC = np.cov(A, C, ddof=1)[0, 1]\n",
        "\n",
        "print(f\"Covariance(A, B): {cov_AB}\")\n",
        "print(f\"Covariance(B, C): {cov_BC}\")\n",
        "print(f\"Covariance(A, C): {cov_AC}\")\n"
      ],
      "metadata": {
        "colab": {
          "base_uri": "https://localhost:8080/"
        },
        "id": "S214te17JUbB",
        "outputId": "b3b35e53-6aa8-4f5a-e062-5af627cda386"
      },
      "execution_count": 48,
      "outputs": [
        {
          "output_type": "stream",
          "name": "stdout",
          "text": [
            "Covariance(A, B): 5.111111111111111\n",
            "Covariance(B, C): -1.1111111111111112\n",
            "Covariance(A, C): -4.822222222222222\n"
          ]
        }
      ]
    },
    {
      "cell_type": "markdown",
      "source": [
        "## 5. Pearson Correlation Coefficient\n",
        "\n",
        "To compare relationships, Pearson correlation normalizes covariance to the range `[-1, +1]`:\n",
        "\n",
        "$$\n",
        "\\rho = \\frac{\\text{Cov}(x, y)}{\\sigma_x \\sigma_y}\n",
        "$$\n",
        "\n",
        "- Values close to `+1` indicate strong positive linear relationship\n",
        "- Values close to `-1` indicate strong negative linear relationship\n",
        "- Values around `0` indicate weak/no linear relationship\n",
        "\n",
        "Let's calculate for study hours and scores.\n"
      ],
      "metadata": {
        "id": "0ex1zxjqJbnp"
      }
    },
    {
      "cell_type": "code",
      "source": [
        "# Pearson correlation calculation from covariance and standard deviations\n",
        "std_x = np.std(x_scores, ddof=1)\n",
        "std_y = np.std(y_scores, ddof=1)\n",
        "pearson_r = cov_score / (std_x * std_y)\n",
        "print(f\"Pearson correlation coefficient: {pearson_r}\")\n",
        "\n",
        "# Using numpy's built-in function\n",
        "pearson_np = np.corrcoef(x_scores, y_scores)[0, 1]\n",
        "print(f\"Pearson correlation (numpy): {pearson_np}\")\n"
      ],
      "metadata": {
        "colab": {
          "base_uri": "https://localhost:8080/"
        },
        "id": "GXkcCWPtJZcL",
        "outputId": "69f60ba6-cac9-4ad7-84e7-dadae08ac756"
      },
      "execution_count": 49,
      "outputs": [
        {
          "output_type": "stream",
          "name": "stdout",
          "text": [
            "Pearson correlation coefficient: 1.0\n",
            "Pearson correlation (numpy): 1.0\n"
          ]
        }
      ]
    },
    {
      "cell_type": "markdown",
      "source": [
        "## 6. Spearman Rank Correlation\n",
        "\n",
        "Pearson only measures linear relationships. **Spearman Rank Correlation** uses ranked data, capturing monotonic (possibly nonlinear) relationships.\n",
        "\n",
        "$$\n",
        "\\rho_s = \\text{PearsonCorrelation}(\\text{ranks}(x),\\ \\text{ranks}(y))\n",
        "$$\n",
        "\n",
        "Let's see it in action.\n"
      ],
      "metadata": {
        "id": "6FC3XashJgDr"
      }
    },
    {
      "cell_type": "code",
      "source": [
        "from scipy.stats import rankdata, spearmanr\n",
        "\n",
        "# Rank the original study hours and scores data\n",
        "x_ranks = rankdata(x_scores)\n",
        "y_ranks = rankdata(y_scores)\n",
        "print(f\"Ranks of x: {x_ranks}\")\n",
        "print(f\"Ranks of y: {y_ranks}\")\n",
        "\n",
        "# Spearman correlation calculation using Pearson on ranks\n",
        "spearman_manual = np.corrcoef(x_ranks, y_ranks)[0, 1]\n",
        "print(f\"Spearman (manual, Pearson on ranks): {spearman_manual}\")\n",
        "\n",
        "# Using scipy's built-in function\n",
        "spearman_builtin, _ = spearmanr(x_scores, y_scores)\n",
        "print(f\"Spearman (scipy): {spearman_builtin}\")\n"
      ],
      "metadata": {
        "colab": {
          "base_uri": "https://localhost:8080/"
        },
        "id": "DX0jxQi7JeKv",
        "outputId": "faa89ada-2083-4d40-f635-ae8b1027a777"
      },
      "execution_count": 50,
      "outputs": [
        {
          "output_type": "stream",
          "name": "stdout",
          "text": [
            "Ranks of x: [1. 2. 3. 4. 5.]\n",
            "Ranks of y: [1. 2. 3. 4. 5.]\n",
            "Spearman (manual, Pearson on ranks): 0.9999999999999999\n",
            "Spearman (scipy): 0.9999999999999999\n"
          ]
        }
      ]
    },
    {
      "cell_type": "markdown",
      "source": [
        "### When to use Spearman?\n",
        "\n",
        "- Relationship is monotonic but not linear\n",
        "- Data has outliers or is not normally distributed\n"
      ],
      "metadata": {
        "id": "y49bx7PpJk6G"
      }
    },
    {
      "cell_type": "markdown",
      "source": [
        "## 7. Application: Feature Selection with Correlation\n",
        "\n",
        "Correlation analysis is often used to select relevant features during exploratory data analysis (EDA).\n",
        "\n",
        "- Features with strong positive or negative correlation with the target are good candidates.\n",
        "- Features with near-zero correlation may be discarded.\n",
        "\n",
        "**Example:** In predicting house prices:\n",
        "- Features like size or number of rooms are usually positively correlated with price.\n",
        "- Features uncorrelated with price can be dropped.\n"
      ],
      "metadata": {
        "id": "C9bJqqh0Jonq"
      }
    },
    {
      "cell_type": "code",
      "source": [
        "# Simulated data for feature selection demonstration\n",
        "import pandas as pd\n",
        "np.random.seed(42)\n",
        "\n",
        "df = pd.DataFrame({\n",
        "    'size': np.random.normal(1500, 200, 100),\n",
        "    'rooms': np.random.randint(2, 6, 100),\n",
        "    'distance_to_market': np.random.normal(5, 1, 100),\n",
        "    'random_noise': np.random.normal(0, 1, 100)\n",
        "})\n",
        "# Target (simulate as a function of size, rooms, plus some noise)\n",
        "df['price'] = 0.05*df['size'] + 5*df['rooms'] + np.random.normal(0, 10, 100)\n",
        "\n",
        "# Calculate correlations with price\n",
        "correlations = df.corr()['price'].sort_values(ascending=False)\n",
        "print(\"Feature correlations with house price:\\n\", correlations)\n"
      ],
      "metadata": {
        "colab": {
          "base_uri": "https://localhost:8080/"
        },
        "id": "FBw52RKhJit6",
        "outputId": "0aa1c6e8-1489-487f-bc93-73049b78cd8d"
      },
      "execution_count": 51,
      "outputs": [
        {
          "output_type": "stream",
          "name": "stdout",
          "text": [
            "Feature correlations with house price:\n",
            " price                 1.000000\n",
            "size                  0.641785\n",
            "rooms                 0.331565\n",
            "random_noise          0.189878\n",
            "distance_to_market    0.048972\n",
            "Name: price, dtype: float64\n"
          ]
        }
      ]
    },
    {
      "cell_type": "markdown",
      "source": [
        "## Summary\n",
        "\n",
        "- **Covariance** measures how two variables change together (no fixed range)\n",
        "- **Pearson correlation** normalizes this to range -1 to +1 (linear relationships)\n",
        "- **Spearman rank correlation**: for monotonic, possibly nonlinear relationships (uses ranked data)\n",
        "- **Correlation analysis** is a key step in feature selection and understanding variable associations in data science.\n"
      ],
      "metadata": {
        "id": "bibqKI7XJtrY"
      }
    },
    {
      "cell_type": "code",
      "source": [],
      "metadata": {
        "id": "6IvY7881JrqY"
      },
      "execution_count": 52,
      "outputs": []
    },
    {
      "cell_type": "code",
      "source": [],
      "metadata": {
        "id": "6Zw539XSKl1E"
      },
      "execution_count": null,
      "outputs": []
    }
  ]
}